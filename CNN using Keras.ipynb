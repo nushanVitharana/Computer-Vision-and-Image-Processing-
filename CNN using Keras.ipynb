{
 "metadata": {
  "language_info": {
   "codemirror_mode": {
    "name": "ipython",
    "version": 3
   },
   "file_extension": ".py",
   "mimetype": "text/x-python",
   "name": "python",
   "nbconvert_exporter": "python",
   "pygments_lexer": "ipython3",
   "version": "3.7.9"
  },
  "orig_nbformat": 2,
  "kernelspec": {
   "name": "python3",
   "display_name": "Python 3",
   "language": "python"
  }
 },
 "nbformat": 4,
 "nbformat_minor": 2,
 "cells": [
  {
   "cell_type": "code",
   "execution_count": 38,
   "outputs": [],
   "source": [
    "import tensorflow as tf\n",
    "from tensorflow import keras\n",
    "import numpy as np\n",
    "import matplotlib.pyplot as plt\n",
    "import cv2 as cv\n",
    "from tensorflow.keras.datasets import cifar10\n",
    "from tensorflow.keras.preprocessing.image import ImageDataGenerator\n",
    "from tensorflow.keras.models import Sequential\n",
    "from tensorflow.keras.layers import Dense, Dropout, Activation, Flatten\n",
    "from tensorflow.keras.layers import Conv2D, MaxPooling2D"
   ]
  },
  {
   "cell_type": "code",
   "execution_count": 30,
   "metadata": {},
   "outputs": [],
   "source": [
    "(x_train, y_train), (x_test, y_test) = keras.datasets.cifar10.load_data()\n",
    "\n",
    "x_train = x_train.astype('float32')\n",
    "x_test = x_test.astype('float32')\n",
    "\n",
    "mean_image = np.mean(x_train, axis=(0,1,2,3))\n",
    "std = np.std(x_train, axis=(0,1,2,3))\n",
    "x_train = (x_train - mean_image)/(std+1e-7)\n",
    "x_test = (x_test - mean_image)/(std+1e-7)\n",
    "\n",
    "y_train = tf.keras.utils.to_categorical(y_train, num_classes=10)\n",
    "y_test = tf.keras.utils.to_categorical(y_test, num_classes=10)"
   ]
  },
  {
   "cell_type": "code",
   "execution_count": 31,
   "metadata": {},
   "outputs": [
    {
     "output_type": "execute_result",
     "data": {
      "text/plain": [
       "\"\\nmodel.compile(loss='CategoricalCrossentropy',\\n              optimizer='adam',\\n              metrics=['accuracy'])\\nmodel.summary()\\nmodel.fit(x_train, y_train , batch_size=32, epochs=10, verbose = 0,validation_data=(x_test,y_test))\\n\""
      ]
     },
     "metadata": {},
     "execution_count": 31
    }
   ],
   "source": [
    "model = Sequential()\n",
    "\n",
    "model.add(Conv2D(32, (3, 3), padding = \"same\", activation = \"relu\", input_shape=(32,32,3)))\n",
    "model.add(Conv2D(32, (3, 3), activation = \"relu\" ))\n",
    "model.add(MaxPooling2D(pool_size=(2, 2)))\n",
    "model.add(Dropout(0.4))\n",
    "\n",
    "model.add(Conv2D(64, (3, 3), padding = \"same\", activation = \"relu\"))\n",
    "model.add(Conv2D(64, (3, 3), activation = \"relu\"))\n",
    "model.add(MaxPooling2D(pool_size=(2, 2)))\n",
    "model.add(Dropout(0.4))\n",
    "\n",
    "model.add(Conv2D(64, (3, 3), padding = \"same\", activation = \"relu\"))\n",
    "model.add(Conv2D(64, (3, 3), activation = \"relu\"))\n",
    "model.add(MaxPooling2D(pool_size=(2, 2)))\n",
    "model.add(Dropout(0.4))\n",
    "\n",
    "model.add(Flatten())\n",
    "model.add(Dense(64, activation = \"relu\"))\n",
    "model.add(Dropout(0.5))\n",
    "model.add(Dense(10, activation = \"softmax\"))"
   ]
  },
  {
   "cell_type": "code",
   "execution_count": 43,
   "metadata": {},
   "outputs": [],
   "source": [
    "model.compile(loss='categorical_crossentropy',\n",
    "              optimizer='adam',\n",
    "              metrics=['accuracy'])"
   ]
  },
  {
   "cell_type": "code",
   "execution_count": 44,
   "metadata": {},
   "outputs": [
    {
     "output_type": "stream",
     "name": "stdout",
     "text": [
      "Model: \"sequential_15\"\n_________________________________________________________________\nLayer (type)                 Output Shape              Param #   \n=================================================================\nconv2d_29 (Conv2D)           (None, 32, 32, 32)        896       \n_________________________________________________________________\nconv2d_30 (Conv2D)           (None, 30, 30, 32)        9248      \n_________________________________________________________________\nmax_pooling2d_24 (MaxPooling (None, 15, 15, 32)        0         \n_________________________________________________________________\ndropout_6 (Dropout)          (None, 15, 15, 32)        0         \n_________________________________________________________________\nconv2d_31 (Conv2D)           (None, 15, 15, 64)        18496     \n_________________________________________________________________\nconv2d_32 (Conv2D)           (None, 13, 13, 64)        36928     \n_________________________________________________________________\nmax_pooling2d_25 (MaxPooling (None, 6, 6, 64)          0         \n_________________________________________________________________\ndropout_7 (Dropout)          (None, 6, 6, 64)          0         \n_________________________________________________________________\nconv2d_33 (Conv2D)           (None, 6, 6, 64)          36928     \n_________________________________________________________________\nconv2d_34 (Conv2D)           (None, 4, 4, 64)          36928     \n_________________________________________________________________\nmax_pooling2d_26 (MaxPooling (None, 2, 2, 64)          0         \n_________________________________________________________________\ndropout_8 (Dropout)          (None, 2, 2, 64)          0         \n_________________________________________________________________\nflatten_8 (Flatten)          (None, 256)               0         \n_________________________________________________________________\ndense_16 (Dense)             (None, 64)                16448     \n_________________________________________________________________\ndropout_9 (Dropout)          (None, 64)                0         \n_________________________________________________________________\ndense_17 (Dense)             (None, 10)                650       \n=================================================================\nTotal params: 156,522\nTrainable params: 156,522\nNon-trainable params: 0\n_________________________________________________________________\n"
     ]
    }
   ],
   "source": [
    "model.summary()"
   ]
  },
  {
   "cell_type": "code",
   "execution_count": null,
   "metadata": {},
   "outputs": [],
   "source": [
    "model.fit(x_train, y_train , batch_size=500, epochs=10, verbose = 0,validation_data=(x_test,y_test))"
   ]
  }
 ]
}